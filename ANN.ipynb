{
  "nbformat": 4,
  "nbformat_minor": 0,
  "metadata": {
    "colab": {
      "provenance": [],
      "gpuType": "T4",
      "include_colab_link": true
    },
    "kernelspec": {
      "name": "python3",
      "display_name": "Python 3"
    },
    "language_info": {
      "name": "python"
    },
    "accelerator": "GPU"
  },
  "cells": [
    {
      "cell_type": "markdown",
      "metadata": {
        "id": "view-in-github",
        "colab_type": "text"
      },
      "source": [
        "<a href=\"https://colab.research.google.com/github/FurkanAhmed2/Artificial-neural-network-prediction/blob/main/ANN.ipynb\" target=\"_parent\"><img src=\"https://colab.research.google.com/assets/colab-badge.svg\" alt=\"Open In Colab\"/></a>"
      ]
    },
    {
      "cell_type": "code",
      "execution_count": 1,
      "metadata": {
        "colab": {
          "base_uri": "https://localhost:8080/"
        },
        "id": "KMQO-lpC6lgI",
        "outputId": "726576ff-fea4-4f2b-a875-c76c19a42ae0"
      },
      "outputs": [
        {
          "output_type": "stream",
          "name": "stdout",
          "text": [
            "Requirement already satisfied: tensorflow in /usr/local/lib/python3.10/dist-packages (2.15.0)\n",
            "Requirement already satisfied: absl-py>=1.0.0 in /usr/local/lib/python3.10/dist-packages (from tensorflow) (1.4.0)\n",
            "Requirement already satisfied: astunparse>=1.6.0 in /usr/local/lib/python3.10/dist-packages (from tensorflow) (1.6.3)\n",
            "Requirement already satisfied: flatbuffers>=23.5.26 in /usr/local/lib/python3.10/dist-packages (from tensorflow) (23.5.26)\n",
            "Requirement already satisfied: gast!=0.5.0,!=0.5.1,!=0.5.2,>=0.2.1 in /usr/local/lib/python3.10/dist-packages (from tensorflow) (0.5.4)\n",
            "Requirement already satisfied: google-pasta>=0.1.1 in /usr/local/lib/python3.10/dist-packages (from tensorflow) (0.2.0)\n",
            "Requirement already satisfied: h5py>=2.9.0 in /usr/local/lib/python3.10/dist-packages (from tensorflow) (3.9.0)\n",
            "Requirement already satisfied: libclang>=13.0.0 in /usr/local/lib/python3.10/dist-packages (from tensorflow) (16.0.6)\n",
            "Requirement already satisfied: ml-dtypes~=0.2.0 in /usr/local/lib/python3.10/dist-packages (from tensorflow) (0.2.0)\n",
            "Requirement already satisfied: numpy<2.0.0,>=1.23.5 in /usr/local/lib/python3.10/dist-packages (from tensorflow) (1.25.2)\n",
            "Requirement already satisfied: opt-einsum>=2.3.2 in /usr/local/lib/python3.10/dist-packages (from tensorflow) (3.3.0)\n",
            "Requirement already satisfied: packaging in /usr/local/lib/python3.10/dist-packages (from tensorflow) (23.2)\n",
            "Requirement already satisfied: protobuf!=4.21.0,!=4.21.1,!=4.21.2,!=4.21.3,!=4.21.4,!=4.21.5,<5.0.0dev,>=3.20.3 in /usr/local/lib/python3.10/dist-packages (from tensorflow) (3.20.3)\n",
            "Requirement already satisfied: setuptools in /usr/local/lib/python3.10/dist-packages (from tensorflow) (67.7.2)\n",
            "Requirement already satisfied: six>=1.12.0 in /usr/local/lib/python3.10/dist-packages (from tensorflow) (1.16.0)\n",
            "Requirement already satisfied: termcolor>=1.1.0 in /usr/local/lib/python3.10/dist-packages (from tensorflow) (2.4.0)\n",
            "Requirement already satisfied: typing-extensions>=3.6.6 in /usr/local/lib/python3.10/dist-packages (from tensorflow) (4.9.0)\n",
            "Requirement already satisfied: wrapt<1.15,>=1.11.0 in /usr/local/lib/python3.10/dist-packages (from tensorflow) (1.14.1)\n",
            "Requirement already satisfied: tensorflow-io-gcs-filesystem>=0.23.1 in /usr/local/lib/python3.10/dist-packages (from tensorflow) (0.36.0)\n",
            "Requirement already satisfied: grpcio<2.0,>=1.24.3 in /usr/local/lib/python3.10/dist-packages (from tensorflow) (1.60.1)\n",
            "Requirement already satisfied: tensorboard<2.16,>=2.15 in /usr/local/lib/python3.10/dist-packages (from tensorflow) (2.15.2)\n",
            "Requirement already satisfied: tensorflow-estimator<2.16,>=2.15.0 in /usr/local/lib/python3.10/dist-packages (from tensorflow) (2.15.0)\n",
            "Requirement already satisfied: keras<2.16,>=2.15.0 in /usr/local/lib/python3.10/dist-packages (from tensorflow) (2.15.0)\n",
            "Requirement already satisfied: wheel<1.0,>=0.23.0 in /usr/local/lib/python3.10/dist-packages (from astunparse>=1.6.0->tensorflow) (0.42.0)\n",
            "Requirement already satisfied: google-auth<3,>=1.6.3 in /usr/local/lib/python3.10/dist-packages (from tensorboard<2.16,>=2.15->tensorflow) (2.27.0)\n",
            "Requirement already satisfied: google-auth-oauthlib<2,>=0.5 in /usr/local/lib/python3.10/dist-packages (from tensorboard<2.16,>=2.15->tensorflow) (1.2.0)\n",
            "Requirement already satisfied: markdown>=2.6.8 in /usr/local/lib/python3.10/dist-packages (from tensorboard<2.16,>=2.15->tensorflow) (3.5.2)\n",
            "Requirement already satisfied: requests<3,>=2.21.0 in /usr/local/lib/python3.10/dist-packages (from tensorboard<2.16,>=2.15->tensorflow) (2.31.0)\n",
            "Requirement already satisfied: tensorboard-data-server<0.8.0,>=0.7.0 in /usr/local/lib/python3.10/dist-packages (from tensorboard<2.16,>=2.15->tensorflow) (0.7.2)\n",
            "Requirement already satisfied: werkzeug>=1.0.1 in /usr/local/lib/python3.10/dist-packages (from tensorboard<2.16,>=2.15->tensorflow) (3.0.1)\n",
            "Requirement already satisfied: cachetools<6.0,>=2.0.0 in /usr/local/lib/python3.10/dist-packages (from google-auth<3,>=1.6.3->tensorboard<2.16,>=2.15->tensorflow) (5.3.2)\n",
            "Requirement already satisfied: pyasn1-modules>=0.2.1 in /usr/local/lib/python3.10/dist-packages (from google-auth<3,>=1.6.3->tensorboard<2.16,>=2.15->tensorflow) (0.3.0)\n",
            "Requirement already satisfied: rsa<5,>=3.1.4 in /usr/local/lib/python3.10/dist-packages (from google-auth<3,>=1.6.3->tensorboard<2.16,>=2.15->tensorflow) (4.9)\n",
            "Requirement already satisfied: requests-oauthlib>=0.7.0 in /usr/local/lib/python3.10/dist-packages (from google-auth-oauthlib<2,>=0.5->tensorboard<2.16,>=2.15->tensorflow) (1.3.1)\n",
            "Requirement already satisfied: charset-normalizer<4,>=2 in /usr/local/lib/python3.10/dist-packages (from requests<3,>=2.21.0->tensorboard<2.16,>=2.15->tensorflow) (3.3.2)\n",
            "Requirement already satisfied: idna<4,>=2.5 in /usr/local/lib/python3.10/dist-packages (from requests<3,>=2.21.0->tensorboard<2.16,>=2.15->tensorflow) (3.6)\n",
            "Requirement already satisfied: urllib3<3,>=1.21.1 in /usr/local/lib/python3.10/dist-packages (from requests<3,>=2.21.0->tensorboard<2.16,>=2.15->tensorflow) (2.0.7)\n",
            "Requirement already satisfied: certifi>=2017.4.17 in /usr/local/lib/python3.10/dist-packages (from requests<3,>=2.21.0->tensorboard<2.16,>=2.15->tensorflow) (2024.2.2)\n",
            "Requirement already satisfied: MarkupSafe>=2.1.1 in /usr/local/lib/python3.10/dist-packages (from werkzeug>=1.0.1->tensorboard<2.16,>=2.15->tensorflow) (2.1.5)\n",
            "Requirement already satisfied: pyasn1<0.6.0,>=0.4.6 in /usr/local/lib/python3.10/dist-packages (from pyasn1-modules>=0.2.1->google-auth<3,>=1.6.3->tensorboard<2.16,>=2.15->tensorflow) (0.5.1)\n",
            "Requirement already satisfied: oauthlib>=3.0.0 in /usr/local/lib/python3.10/dist-packages (from requests-oauthlib>=0.7.0->google-auth-oauthlib<2,>=0.5->tensorboard<2.16,>=2.15->tensorflow) (3.2.2)\n"
          ]
        }
      ],
      "source": [
        "!pip install tensorflow\n"
      ]
    },
    {
      "cell_type": "code",
      "source": [
        "import tensorflow as tf"
      ],
      "metadata": {
        "id": "D2IliGyI62B0"
      },
      "execution_count": 2,
      "outputs": []
    },
    {
      "cell_type": "code",
      "source": [
        "print(tf.__version__)"
      ],
      "metadata": {
        "colab": {
          "base_uri": "https://localhost:8080/"
        },
        "id": "4_fyxUHb7GuH",
        "outputId": "7ac33e88-fbcd-4c83-f9c2-0a892481bd66"
      },
      "execution_count": 3,
      "outputs": [
        {
          "output_type": "stream",
          "name": "stdout",
          "text": [
            "2.15.0\n"
          ]
        }
      ]
    },
    {
      "cell_type": "code",
      "source": [
        "# Importing the libraries\n",
        "import numpy as np\n",
        "import matplotlib.pyplot as plt\n",
        "import pandas as pd"
      ],
      "metadata": {
        "id": "LLvV2K-o7KAp"
      },
      "execution_count": 4,
      "outputs": []
    },
    {
      "cell_type": "code",
      "source": [
        "# Importing the dataset\n",
        "#It is a binary classification problem and we need to predict if the customer will exit the bank in future or not\n",
        "dataset = pd.read_csv('Churn_Modelling.csv')\n",
        "#Divide the dataset into independent variable(X) and dependent Variable(Y)\n",
        "X = dataset.iloc[:, 3:13]\n",
        "y = dataset.iloc[:, 13]"
      ],
      "metadata": {
        "id": "gHRHobkK7Sxn"
      },
      "execution_count": 5,
      "outputs": []
    },
    {
      "cell_type": "code",
      "source": [
        "#Feature Engineering\n",
        "#Create dummy variables\n",
        "geography=pd.get_dummies(X[\"Geography\"],drop_first=True)\n",
        "gender=pd.get_dummies(X['Gender'],drop_first=True)"
      ],
      "metadata": {
        "id": "T2yS0VL67Ufn"
      },
      "execution_count": 6,
      "outputs": []
    },
    {
      "cell_type": "code",
      "source": [
        "## Concatenate the Data Frames\n",
        "\n",
        "X=pd.concat([X,geography,gender],axis=1)\n",
        "\n",
        "## Drop Unnecessary columns\n",
        "X=X.drop(['Geography','Gender'],axis=1)\n",
        "\n",
        "# Splitting the dataset into the Training set and Test set\n",
        "from sklearn.model_selection import train_test_split\n",
        "X_train, X_test, y_train, y_test = train_test_split(X, y, test_size = 0.2, random_state = 0)\n"
      ],
      "metadata": {
        "id": "Co2rxaFR7Wgo"
      },
      "execution_count": 7,
      "outputs": []
    },
    {
      "cell_type": "code",
      "source": [
        "# Feature Scaling\n",
        "from sklearn.preprocessing import StandardScaler\n",
        "sc = StandardScaler()\n",
        "X_train = sc.fit_transform(X_train)\n",
        "X_test = sc.transform(X_test)\n"
      ],
      "metadata": {
        "id": "GNZrZXy37ZLs"
      },
      "execution_count": 8,
      "outputs": []
    },
    {
      "cell_type": "code",
      "source": [
        "# Now let's make the ANN!"
      ],
      "metadata": {
        "id": "uwN3bgie7bvT"
      },
      "execution_count": null,
      "outputs": []
    },
    {
      "cell_type": "code",
      "source": [
        "from tensorflow.keras.models import Sequential\n",
        "from tensorflow.keras.layers import Dense\n",
        "from tensorflow.keras.layers import LeakyReLU,PReLU,ELU\n",
        "from tensorflow.keras.layers import Dropout\n"
      ],
      "metadata": {
        "id": "rL_a7vWu7dj1"
      },
      "execution_count": 9,
      "outputs": []
    },
    {
      "cell_type": "code",
      "source": [
        "# Initialising the ANN\n",
        "classifier = Sequential()"
      ],
      "metadata": {
        "id": "VDJwvrbZ7kj4"
      },
      "execution_count": 10,
      "outputs": []
    },
    {
      "cell_type": "code",
      "source": [
        "# Adding the input layer and the first hidden layer\n",
        "#The activation function will be used in the next laye but we need to mention it here only\n",
        "classifier.add(Dense(units=11,activation='relu'))"
      ],
      "metadata": {
        "id": "RSZQrU-g7z4N"
      },
      "execution_count": 11,
      "outputs": []
    },
    {
      "cell_type": "code",
      "source": [
        "# Adding the input layer and the first hidden layer\n",
        "classifier.add(Dense(units=6,activation='relu'))"
      ],
      "metadata": {
        "id": "byszZMvw8RcQ"
      },
      "execution_count": 12,
      "outputs": []
    },
    {
      "cell_type": "code",
      "source": [
        "# Adding the output layer\n",
        "classifier.add(Dense(units=1,activation='relu'))"
      ],
      "metadata": {
        "id": "Mk2slmAX8XUI"
      },
      "execution_count": 13,
      "outputs": []
    },
    {
      "cell_type": "code",
      "source": [
        "classifier.compile(optimizer='adam',loss='binary_crossentropy',metrics=['accuracy'])\n",
        "#By default Adam optimizer uses the learning rate of 0.1"
      ],
      "metadata": {
        "id": "F2udThHo8cFt"
      },
      "execution_count": 16,
      "outputs": []
    },
    {
      "cell_type": "code",
      "source": [
        "#Tain the entire Neural Network\n",
        "model_history=classifier.fit(X_train,y_train,validation_split=0.33,batch_size=10,epochs=50)"
      ],
      "metadata": {
        "colab": {
          "base_uri": "https://localhost:8080/"
        },
        "id": "3qairJAs8fIc",
        "outputId": "a95d764e-e71d-4cc8-9a7c-b119648c410e"
      },
      "execution_count": 15,
      "outputs": [
        {
          "output_type": "stream",
          "name": "stdout",
          "text": [
            "Epoch 1/50\n",
            "536/536 [==============================] - 8s 4ms/step - loss: 1.0848 - accuracy: 0.7235 - val_loss: 0.7562 - val_accuracy: 0.7641\n",
            "Epoch 2/50\n",
            "536/536 [==============================] - 2s 4ms/step - loss: 0.6241 - accuracy: 0.7669 - val_loss: 0.5560 - val_accuracy: 0.7785\n",
            "Epoch 3/50\n",
            "536/536 [==============================] - 2s 4ms/step - loss: 0.5468 - accuracy: 0.7873 - val_loss: 0.5365 - val_accuracy: 0.7989\n",
            "Epoch 4/50\n",
            "536/536 [==============================] - 2s 4ms/step - loss: 0.5057 - accuracy: 0.8009 - val_loss: 0.4983 - val_accuracy: 0.8016\n",
            "Epoch 5/50\n",
            "536/536 [==============================] - 3s 5ms/step - loss: 0.4742 - accuracy: 0.8050 - val_loss: 0.4801 - val_accuracy: 0.8046\n",
            "Epoch 6/50\n",
            "536/536 [==============================] - 2s 4ms/step - loss: 0.4633 - accuracy: 0.8117 - val_loss: 0.4912 - val_accuracy: 0.8069\n",
            "Epoch 7/50\n",
            "536/536 [==============================] - 2s 4ms/step - loss: 0.4556 - accuracy: 0.8130 - val_loss: 0.4930 - val_accuracy: 0.8126\n",
            "Epoch 8/50\n",
            "536/536 [==============================] - 2s 4ms/step - loss: 0.4505 - accuracy: 0.8136 - val_loss: 0.4705 - val_accuracy: 0.8122\n",
            "Epoch 9/50\n",
            "536/536 [==============================] - 2s 4ms/step - loss: 0.4452 - accuracy: 0.8158 - val_loss: 0.4670 - val_accuracy: 0.8133\n",
            "Epoch 10/50\n",
            "536/536 [==============================] - 3s 6ms/step - loss: 0.4449 - accuracy: 0.8218 - val_loss: 0.4688 - val_accuracy: 0.8201\n",
            "Epoch 11/50\n",
            "536/536 [==============================] - 2s 4ms/step - loss: 0.4431 - accuracy: 0.8214 - val_loss: 0.5223 - val_accuracy: 0.8148\n",
            "Epoch 12/50\n",
            "536/536 [==============================] - 2s 4ms/step - loss: 0.4467 - accuracy: 0.8220 - val_loss: 0.4906 - val_accuracy: 0.8281\n",
            "Epoch 13/50\n",
            "536/536 [==============================] - 2s 4ms/step - loss: 0.4314 - accuracy: 0.8291 - val_loss: 0.4748 - val_accuracy: 0.8307\n",
            "Epoch 14/50\n",
            "536/536 [==============================] - 2s 4ms/step - loss: 0.4251 - accuracy: 0.8311 - val_loss: 0.4803 - val_accuracy: 0.8300\n",
            "Epoch 15/50\n",
            "536/536 [==============================] - 3s 5ms/step - loss: 0.4172 - accuracy: 0.8356 - val_loss: 0.4628 - val_accuracy: 0.8334\n",
            "Epoch 16/50\n",
            "536/536 [==============================] - 2s 4ms/step - loss: 0.4185 - accuracy: 0.8373 - val_loss: 0.4776 - val_accuracy: 0.8281\n",
            "Epoch 17/50\n",
            "536/536 [==============================] - 2s 4ms/step - loss: 0.4164 - accuracy: 0.8391 - val_loss: 0.4673 - val_accuracy: 0.8417\n",
            "Epoch 18/50\n",
            "536/536 [==============================] - 2s 4ms/step - loss: 0.4039 - accuracy: 0.8423 - val_loss: 0.4617 - val_accuracy: 0.8360\n",
            "Epoch 19/50\n",
            "536/536 [==============================] - 2s 4ms/step - loss: 0.3942 - accuracy: 0.8433 - val_loss: 0.4364 - val_accuracy: 0.8330\n",
            "Epoch 20/50\n",
            "536/536 [==============================] - 3s 6ms/step - loss: 0.3882 - accuracy: 0.8416 - val_loss: 0.4376 - val_accuracy: 0.8360\n",
            "Epoch 21/50\n",
            "536/536 [==============================] - 3s 6ms/step - loss: 0.3880 - accuracy: 0.8440 - val_loss: 0.4433 - val_accuracy: 0.8353\n",
            "Epoch 22/50\n",
            "536/536 [==============================] - 2s 4ms/step - loss: 0.3893 - accuracy: 0.8433 - val_loss: 0.4607 - val_accuracy: 0.8395\n",
            "Epoch 23/50\n",
            "536/536 [==============================] - 2s 4ms/step - loss: 0.3896 - accuracy: 0.8461 - val_loss: 0.4686 - val_accuracy: 0.8391\n",
            "Epoch 24/50\n",
            "536/536 [==============================] - 2s 4ms/step - loss: 0.3839 - accuracy: 0.8477 - val_loss: 0.4657 - val_accuracy: 0.8402\n",
            "Epoch 25/50\n",
            "536/536 [==============================] - 3s 6ms/step - loss: 0.3823 - accuracy: 0.8479 - val_loss: 0.4643 - val_accuracy: 0.8372\n",
            "Epoch 26/50\n",
            "536/536 [==============================] - 3s 6ms/step - loss: 0.3797 - accuracy: 0.8492 - val_loss: 0.4726 - val_accuracy: 0.8379\n",
            "Epoch 27/50\n",
            "536/536 [==============================] - 2s 4ms/step - loss: 0.3746 - accuracy: 0.8481 - val_loss: 0.4560 - val_accuracy: 0.8349\n",
            "Epoch 28/50\n",
            "536/536 [==============================] - 2s 4ms/step - loss: 0.3671 - accuracy: 0.8492 - val_loss: 0.4580 - val_accuracy: 0.8345\n",
            "Epoch 29/50\n",
            "536/536 [==============================] - 2s 5ms/step - loss: 0.3638 - accuracy: 0.8503 - val_loss: 0.4642 - val_accuracy: 0.8342\n",
            "Epoch 30/50\n",
            "536/536 [==============================] - 5s 10ms/step - loss: 0.3643 - accuracy: 0.8485 - val_loss: 0.4609 - val_accuracy: 0.8372\n",
            "Epoch 31/50\n",
            "536/536 [==============================] - 3s 5ms/step - loss: 0.3651 - accuracy: 0.8517 - val_loss: 0.4666 - val_accuracy: 0.8379\n",
            "Epoch 32/50\n",
            "536/536 [==============================] - 2s 5ms/step - loss: 0.3711 - accuracy: 0.8517 - val_loss: 0.4551 - val_accuracy: 0.8342\n",
            "Epoch 33/50\n",
            "536/536 [==============================] - 2s 4ms/step - loss: 0.3634 - accuracy: 0.8530 - val_loss: 0.4568 - val_accuracy: 0.8379\n",
            "Epoch 34/50\n",
            "536/536 [==============================] - 3s 5ms/step - loss: 0.3643 - accuracy: 0.8554 - val_loss: 0.4582 - val_accuracy: 0.8360\n",
            "Epoch 35/50\n",
            "536/536 [==============================] - 2s 4ms/step - loss: 0.3569 - accuracy: 0.8546 - val_loss: 0.4498 - val_accuracy: 0.8376\n",
            "Epoch 36/50\n",
            "536/536 [==============================] - 2s 4ms/step - loss: 0.3547 - accuracy: 0.8558 - val_loss: 0.4337 - val_accuracy: 0.8413\n",
            "Epoch 37/50\n",
            "536/536 [==============================] - 2s 4ms/step - loss: 0.3629 - accuracy: 0.8487 - val_loss: 0.4341 - val_accuracy: 0.8307\n",
            "Epoch 38/50\n",
            "536/536 [==============================] - 2s 4ms/step - loss: 0.3514 - accuracy: 0.8530 - val_loss: 0.4514 - val_accuracy: 0.8364\n",
            "Epoch 39/50\n",
            "536/536 [==============================] - 3s 5ms/step - loss: 0.3468 - accuracy: 0.8563 - val_loss: 0.4414 - val_accuracy: 0.8402\n",
            "Epoch 40/50\n",
            "536/536 [==============================] - 2s 4ms/step - loss: 0.3442 - accuracy: 0.8574 - val_loss: 0.4418 - val_accuracy: 0.8410\n",
            "Epoch 41/50\n",
            "536/536 [==============================] - 3s 6ms/step - loss: 0.3460 - accuracy: 0.8582 - val_loss: 0.4403 - val_accuracy: 0.8440\n",
            "Epoch 42/50\n",
            "536/536 [==============================] - 3s 6ms/step - loss: 0.3447 - accuracy: 0.8589 - val_loss: 0.4587 - val_accuracy: 0.8421\n",
            "Epoch 43/50\n",
            "536/536 [==============================] - 4s 8ms/step - loss: 0.3463 - accuracy: 0.8576 - val_loss: 0.4400 - val_accuracy: 0.8440\n",
            "Epoch 44/50\n",
            "536/536 [==============================] - 4s 8ms/step - loss: 0.3477 - accuracy: 0.8593 - val_loss: 0.4466 - val_accuracy: 0.8398\n",
            "Epoch 45/50\n",
            "536/536 [==============================] - 3s 5ms/step - loss: 0.3423 - accuracy: 0.8582 - val_loss: 0.4476 - val_accuracy: 0.8421\n",
            "Epoch 46/50\n",
            "536/536 [==============================] - 2s 4ms/step - loss: 0.3525 - accuracy: 0.8496 - val_loss: 0.4401 - val_accuracy: 0.8357\n",
            "Epoch 47/50\n",
            "536/536 [==============================] - 3s 6ms/step - loss: 0.3428 - accuracy: 0.8578 - val_loss: 0.4402 - val_accuracy: 0.8406\n",
            "Epoch 48/50\n",
            "536/536 [==============================] - 2s 4ms/step - loss: 0.3400 - accuracy: 0.8593 - val_loss: 0.4493 - val_accuracy: 0.8406\n",
            "Epoch 49/50\n",
            "536/536 [==============================] - 2s 4ms/step - loss: 0.3411 - accuracy: 0.8612 - val_loss: 0.4629 - val_accuracy: 0.8425\n",
            "Epoch 50/50\n",
            "536/536 [==============================] - 2s 4ms/step - loss: 0.3438 - accuracy: 0.8595 - val_loss: 0.4611 - val_accuracy: 0.8413\n"
          ]
        }
      ]
    },
    {
      "cell_type": "code",
      "source": [
        "# list all data in history\n",
        "\n",
        "print(model_history.history.keys())"
      ],
      "metadata": {
        "colab": {
          "base_uri": "https://localhost:8080/"
        },
        "id": "Q9t_M4wICTTz",
        "outputId": "bd27466e-4954-4c93-abae-3b4ef763bad0"
      },
      "execution_count": 17,
      "outputs": [
        {
          "output_type": "stream",
          "name": "stdout",
          "text": [
            "dict_keys(['loss', 'accuracy', 'val_loss', 'val_accuracy'])\n"
          ]
        }
      ]
    },
    {
      "cell_type": "code",
      "source": [
        "\n",
        "# summarize history for accuracy\n",
        "plt.plot(model_history.history['accuracy'])\n",
        "plt.plot(model_history.history['val_accuracy'])\n",
        "plt.title('model accuracy')\n",
        "plt.ylabel('accuracy')\n",
        "plt.xlabel('epoch')\n",
        "plt.legend(['train', 'test'], loc='upper left')\n",
        "plt.show()"
      ],
      "metadata": {
        "colab": {
          "base_uri": "https://localhost:8080/",
          "height": 472
        },
        "id": "MMOyiwzgBlLY",
        "outputId": "f382f470-1b6c-4df4-c1b5-274f11a3455d"
      },
      "execution_count": 18,
      "outputs": [
        {
          "output_type": "display_data",
          "data": {
            "text/plain": [
              "<Figure size 640x480 with 1 Axes>"
            ],
            "image/png": "[encoded data removed]"
          },
          "metadata": {}
        }
      ]
    },
    {
      "cell_type": "code",
      "source": [
        "# summarize history for loss\n",
        "plt.plot(model_history.history['loss'])\n",
        "plt.plot(model_history.history['val_loss'])\n",
        "plt.title('model loss')\n",
        "plt.ylabel('loss')\n",
        "plt.xlabel('epoch')\n",
        "plt.legend(['train', 'test'], loc='upper left')\n",
        "plt.show()"
      ],
      "metadata": {
        "colab": {
          "base_uri": "https://localhost:8080/",
          "height": 472
        },
        "id": "QH141RsQCEr0",
        "outputId": "139a1030-2211-45dd-a242-f6313112e16a"
      },
      "execution_count": 19,
      "outputs": [
        {
          "output_type": "display_data",
          "data": {
            "text/plain": [
              "<Figure size 640x480 with 1 Axes>"
            ],
            "image/png": "[encoded data removed]"
          },
          "metadata": {}
        }
      ]
    },
    {
      "cell_type": "code",
      "source": [
        "# Making the predictions and evaluating the model\n",
        "\n",
        "# Predicting the Test set results\n",
        "y_pred = classifier.predict(X_test)\n",
        "y_pred = (y_pred > 0.5)"
      ],
      "metadata": {
        "id": "OYqCIIkDCd8S",
        "colab": {
          "base_uri": "https://localhost:8080/"
        },
        "outputId": "baf9e6e6-c9d8-4b2b-a257-82e4bd44073e"
      },
      "execution_count": 20,
      "outputs": [
        {
          "output_type": "stream",
          "name": "stdout",
          "text": [
            "63/63 [==============================] - 0s 1ms/step\n"
          ]
        }
      ]
    },
    {
      "cell_type": "code",
      "source": [
        "# Making the Confusion Matrix\n",
        "from sklearn.metrics import confusion_matrix\n",
        "cm = confusion_matrix(y_test, y_pred)\n",
        "cm"
      ],
      "metadata": {
        "colab": {
          "base_uri": "https://localhost:8080/"
        },
        "id": "cm3EeOGTCi3-",
        "outputId": "b2999ca7-1f5e-468f-c18a-f7eb2cca3b71"
      },
      "execution_count": 21,
      "outputs": [
        {
          "output_type": "execute_result",
          "data": {
            "text/plain": [
              "array([[1513,   82],\n",
              "       [ 204,  201]])"
            ]
          },
          "metadata": {},
          "execution_count": 21
        }
      ]
    },
    {
      "cell_type": "code",
      "source": [
        "# Calculate the Accuracy\n",
        "from sklearn.metrics import accuracy_score\n",
        "score=accuracy_score(y_pred,y_test)"
      ],
      "metadata": {
        "id": "FgfRKzzOClmP"
      },
      "execution_count": 22,
      "outputs": []
    },
    {
      "cell_type": "code",
      "source": [
        "score"
      ],
      "metadata": {
        "colab": {
          "base_uri": "https://localhost:8080/"
        },
        "id": "a_C5EETrCpSj",
        "outputId": "c2bf2f25-c1e4-4abf-89eb-e7b2aecafd78"
      },
      "execution_count": 23,
      "outputs": [
        {
          "output_type": "execute_result",
          "data": {
            "text/plain": [
              "0.857"
            ]
          },
          "metadata": {},
          "execution_count": 23
        }
      ]
    }
  ]
}